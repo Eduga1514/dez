{
 "cells": [
  {
   "cell_type": "markdown",
   "metadata": {},
   "source": [
    "For reviewing the schema of a partitioned table inside BigQuery, one can run something like:\n",
    "\n",
    "```\n",
    "SELECT table_name, partition_id, total_rows\n",
    "FROM `dataset.INFORMATION_SCHEMA.PARTITIONS`\n",
    "WHERE table_name = `table`\n",
    "ORDER BY total_rows\n",
    "```"
   ]
  },
  {
   "cell_type": "markdown",
   "metadata": {},
   "source": [
    "------\n",
    "Creating a partition and cluster table:\n",
    "\n",
    "```\n",
    "CREATE OR REPLACE TABLE table\n",
    "PARTITION BY DATE(date)\n",
    "CLUSTER BY cluster_dimension AS\n",
    "SELECT * FROM table\n",
    "```"
   ]
  },
  {
   "cell_type": "markdown",
   "metadata": {},
   "source": [
    "-----\n",
    "Best practices for cost reduction:\n",
    "- Avoid SELECT *\n",
    "- Price queries before running\n",
    "- Use clustered or partitioned tables\n",
    "- Use streaming insers with caution\n",
    "- Materialize query results in stages\n",
    "\n",
    "Best practices for performance:\n",
    "- Filter on partitioned columns\n",
    "- Denormalize data\n",
    "- Use nested or repeated columns\n",
    "- Use external data sources appropriately\n",
    "- Don't use it in case you want query performance\n",
    "- Reduce data before using JOIN\n",
    "- Do not treat WITH clauses as prepared statements\n",
    "- Avoid oversharding tables\n",
    "- Avoid JS user-defined functions\n",
    "- Use approximate aggregation functions\n",
    "- Order Last\n",
    "- Optimize join patterns\n",
    "- Place the table with the largest number of rows first, followed by the table with the fewest, and then place the remaining tables by decreasing size."
   ]
  }
 ],
 "metadata": {
  "language_info": {
   "name": "python"
  }
 },
 "nbformat": 4,
 "nbformat_minor": 2
}
